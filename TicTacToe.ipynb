{
 "cells": [
  {
   "cell_type": "code",
   "execution_count": 36,
   "metadata": {},
   "outputs": [],
   "source": [
    "from IPython.display import clear_output"
   ]
  },
  {
   "cell_type": "code",
   "execution_count": 49,
   "metadata": {},
   "outputs": [],
   "source": [
    "def displayboard(board):\n",
    "    clear_output()\n",
    "    print(board[1]+'|'+board[2]+'|'+board[3])\n",
    "    print(board[4]+'|'+board[5]+'|'+board[6])\n",
    "    print(board[7]+'|'+board[8]+'|'+board[9])"
   ]
  },
  {
   "cell_type": "code",
   "execution_count": 50,
   "metadata": {},
   "outputs": [],
   "source": [
    "def player_input():\n",
    "    m = ''\n",
    "    while m!='x' and m!='o':\n",
    "        m = input('Player 1 choose X or O:')\n",
    "        \n",
    "    p1 = m\n",
    "    if p1 == 'x':\n",
    "        p2 = 'o'\n",
    "    else:\n",
    "        p2 = 'x'\n",
    "    print(f'Player 1 is {p1} and Player 2 is {p2}')\n",
    "    return p1,p2"
   ]
  },
  {
   "cell_type": "code",
   "execution_count": 51,
   "metadata": {},
   "outputs": [],
   "source": [
    "def place_marker(board, marker, position):\n",
    "    board[position] = marker\n",
    "    \n",
    "    "
   ]
  },
  {
   "cell_type": "code",
   "execution_count": 59,
   "metadata": {},
   "outputs": [],
   "source": [
    "def wincheck(board, mark):\n",
    "    return ((board[7] == mark and board[8] == mark and board[9] == mark) or # across the top\n",
    "    (board[4] == mark and board[5] == mark and board[6] == mark) or # across the middle\n",
    "    (board[1] == mark and board[2] == mark and board[3] == mark) or # across the bottom\n",
    "    (board[7] == mark and board[4] == mark and board[1] == mark) or # down the middle\n",
    "    (board[8] == mark and board[5] == mark and board[2] == mark) or # down the middle\n",
    "    (board[9] == mark and board[6] == mark and board[3] == mark) or # down the right side\n",
    "    (board[7] == mark and board[5] == mark and board[3] == mark) or # diagonal\n",
    "    (board[9] == mark and board[5] == mark and board[1] == mark))"
   ]
  },
  {
   "cell_type": "code",
   "execution_count": 60,
   "metadata": {},
   "outputs": [],
   "source": [
    "import random\n",
    "def choose_first():\n",
    "    x = random.randint(0,1)\n",
    "    if x == 1:\n",
    "        return 'P1'\n",
    "    else:\n",
    "        return 'P2'"
   ]
  },
  {
   "cell_type": "code",
   "execution_count": 61,
   "metadata": {},
   "outputs": [],
   "source": [
    "def space_check(board, position):\n",
    "    return board[position] == ' '"
   ]
  },
  {
   "cell_type": "code",
   "execution_count": 62,
   "metadata": {},
   "outputs": [],
   "source": [
    "def fullboard_check(board):\n",
    "    for i in range(1,10):\n",
    "        if space_check(board,i):\n",
    "            return False\n",
    "    else:\n",
    "        return True\n",
    "            "
   ]
  },
  {
   "cell_type": "code",
   "execution_count": 63,
   "metadata": {},
   "outputs": [],
   "source": [
    "def player_choice(board):\n",
    "    pos = 0\n",
    "    while pos not in range(1,10) or space_check(board, pos)==False:\n",
    "        pos = int(input('Enter the next position:'))\n",
    "        \n",
    "    return pos\n",
    "            "
   ]
  },
  {
   "cell_type": "code",
   "execution_count": 64,
   "metadata": {},
   "outputs": [],
   "source": [
    "def replay():\n",
    "    return input('Do you want to play again? Enter Yes or No: ').lower().startswith('y')"
   ]
  },
  {
   "cell_type": "code",
   "execution_count": null,
   "metadata": {},
   "outputs": [
    {
     "name": "stdout",
     "output_type": "stream",
     "text": [
      "x|o|o\n",
      "o|o|x\n",
      "x|x|x\n",
      "Player 1 Wins!!\n"
     ]
    }
   ],
   "source": [
    "print('Welcome to TIC TAC TOE!')\n",
    "\n",
    "while True:\n",
    "    board = [' ']*10\n",
    "    p1m, p2m = player_input()\n",
    "    turn = choose_first()\n",
    "    print(f'{turn} goes first')\n",
    "    \n",
    "    play_game = input('Ready to play? Y or N')\n",
    "    \n",
    "    if play_game.lower()[0] == 'y':\n",
    "        game_on = True\n",
    "    else:\n",
    "        game_on = False\n",
    "    \n",
    "    while game_on:\n",
    "        if turn == 'P1':\n",
    "            #Player 1 turn\n",
    "            displayboard(board)\n",
    "            position = player_choice(board)\n",
    "            place_marker(board, p1m, position)\n",
    "            \n",
    "            if wincheck(board, p1m):\n",
    "                displayboard(board)\n",
    "                print('Player 1 Wins!!')\n",
    "                game_on = False\n",
    "            else:\n",
    "                if fullboard_check(board):\n",
    "                    displayboard(board)\n",
    "                    print('Game is a Draw!')\n",
    "                    break\n",
    "                else:\n",
    "                    turn = 'P2'\n",
    "        \n",
    "        else:\n",
    "            #Player 2 turn\n",
    "            displayboard(board)\n",
    "            position = player_choice(board)\n",
    "            place_marker(board, p2m, position)\n",
    "            \n",
    "            if wincheck(board, p2m):\n",
    "                displayboard(board)\n",
    "                print('Player 2 Wins!!')\n",
    "                game_on = False\n",
    "            else:\n",
    "                if fullboard_check(board):\n",
    "                    displayboard(board)\n",
    "                    print('Game is a Draw!')\n",
    "                    break\n",
    "                else:\n",
    "                    turn ='P1'\n",
    "    \n",
    "    if replay()==False:\n",
    "        break\n",
    "        \n",
    "                \n",
    "        \n",
    "    "
   ]
  },
  {
   "cell_type": "code",
   "execution_count": null,
   "metadata": {},
   "outputs": [],
   "source": []
  }
 ],
 "metadata": {
  "kernelspec": {
   "display_name": "Python 3",
   "language": "python",
   "name": "python3"
  },
  "language_info": {
   "codemirror_mode": {
    "name": "ipython",
    "version": 3
   },
   "file_extension": ".py",
   "mimetype": "text/x-python",
   "name": "python",
   "nbconvert_exporter": "python",
   "pygments_lexer": "ipython3",
   "version": "3.8.3"
  }
 },
 "nbformat": 4,
 "nbformat_minor": 4
}
